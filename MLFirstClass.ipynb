{
  "nbformat": 4,
  "nbformat_minor": 0,
  "metadata": {
    "colab": {
      "provenance": [],
      "authorship_tag": "ABX9TyN3Vd2Y2fzXpQ0HRY8wbhk5",
      "include_colab_link": true
    },
    "kernelspec": {
      "name": "python3",
      "display_name": "Python 3"
    },
    "language_info": {
      "name": "python"
    }
  },
  "cells": [
    {
      "cell_type": "markdown",
      "metadata": {
        "id": "view-in-github",
        "colab_type": "text"
      },
      "source": [
        "<a href=\"https://colab.research.google.com/github/ibnunisvar/PCML_Files/blob/main/MLFirstClass.ipynb\" target=\"_parent\"><img src=\"https://colab.research.google.com/assets/colab-badge.svg\" alt=\"Open In Colab\"/></a>"
      ]
    },
    {
      "cell_type": "code",
      "execution_count": null,
      "metadata": {
        "colab": {
          "base_uri": "https://localhost:8080/"
        },
        "id": "tiWG57NRtt88",
        "outputId": "d860be5a-a49b-4b64-ad4c-c5e2d1f0da9d"
      },
      "outputs": [
        {
          "output_type": "stream",
          "name": "stdout",
          "text": [
            "hello\n"
          ]
        }
      ],
      "source": [
        "#this is a comment\n",
        "print(\"hello\")"
      ]
    },
    {
      "cell_type": "code",
      "source": [
        "x=5\n",
        "y=7\n",
        "print(x)\n",
        "print(y)\n",
        "print(x, y)"
      ],
      "metadata": {
        "colab": {
          "base_uri": "https://localhost:8080/"
        },
        "id": "hI3IezNF0MZH",
        "outputId": "1752ed18-3474-40ea-c2fe-52a0304b9ef2"
      },
      "execution_count": null,
      "outputs": [
        {
          "output_type": "stream",
          "name": "stdout",
          "text": [
            "5\n",
            "7\n",
            "5 7\n"
          ]
        }
      ]
    },
    {
      "cell_type": "code",
      "source": [
        "name = \"Habeebi\"\n",
        "age = 27\n",
        "print (name, \"is\" , age)"
      ],
      "metadata": {
        "colab": {
          "base_uri": "https://localhost:8080/"
        },
        "id": "LJz1TwKA0myF",
        "outputId": "9614c54d-9d40-4114-c42b-9227d51ea728"
      },
      "execution_count": null,
      "outputs": [
        {
          "output_type": "stream",
          "name": "stdout",
          "text": [
            "Habeebi is 27\n"
          ]
        }
      ]
    },
    {
      "cell_type": "code",
      "source": [
        "x = 5\n",
        "print(x)\n",
        "x = 7\n",
        "print(x)\n",
        "x = \"check\"\n",
        "print(x)"
      ],
      "metadata": {
        "colab": {
          "base_uri": "https://localhost:8080/"
        },
        "id": "zbZKjg1w03La",
        "outputId": "89fbc0ce-765a-494d-f389-24250ef8eba1"
      },
      "execution_count": null,
      "outputs": [
        {
          "output_type": "stream",
          "name": "stdout",
          "text": [
            "5\n",
            "7\n",
            "check\n"
          ]
        }
      ]
    },
    {
      "cell_type": "code",
      "source": [
        "x = 6\n",
        "x = x+1\n",
        "print(x, type(x))"
      ],
      "metadata": {
        "colab": {
          "base_uri": "https://localhost:8080/"
        },
        "id": "F1ga61uV1jfA",
        "outputId": "32fde9e3-9978-4c44-9018-d7036ce2569e"
      },
      "execution_count": null,
      "outputs": [
        {
          "output_type": "stream",
          "name": "stdout",
          "text": [
            "7 <class 'int'>\n"
          ]
        }
      ]
    },
    {
      "cell_type": "code",
      "source": [
        "name = \"Mohammed\"\n",
        "age = 26\n",
        "Height = 5.7\n",
        "Location = \"Dehiwala\"\n",
        "print(\"I'm\",name , \"\\nand I'm\", age, \"years old\", \"\\nMy height is\", Height)"
      ],
      "metadata": {
        "colab": {
          "base_uri": "https://localhost:8080/"
        },
        "id": "Ct40J9hB1uHl",
        "outputId": "baea875c-b329-4e51-f829-fd8eaf400636"
      },
      "execution_count": null,
      "outputs": [
        {
          "output_type": "stream",
          "name": "stdout",
          "text": [
            "I'm Mohammed \n",
            "and I'm 26 years old \n",
            "My height is 5.7\n"
          ]
        }
      ]
    },
    {
      "cell_type": "code",
      "source": [
        "#list\n",
        "friends = [\"Hammath\", \"Rafah\", \"Nafrees\", \"Jezeel\", \"Muzny\"]\n",
        "print(\"Here is a list of my friends : \", friends )\n",
        "print(friends[0])\n",
        "print(friends[-1])"
      ],
      "metadata": {
        "colab": {
          "base_uri": "https://localhost:8080/"
        },
        "id": "Ox7Nr9Wj2m7C",
        "outputId": "14c079f2-eba7-40bc-f6bc-15559cb88795"
      },
      "execution_count": null,
      "outputs": [
        {
          "output_type": "stream",
          "name": "stdout",
          "text": [
            "Here is a list of my friends :  ['Hammath', 'Rafah', 'Nafrees', 'Jezeel', 'Muzny']\n",
            "Hammath\n",
            "Muzny\n"
          ]
        }
      ]
    },
    {
      "cell_type": "code",
      "source": [
        "#Slicing\n",
        "#list[start:end]\n",
        "print(friends[1:4])\n",
        "print(friends[:3])\n",
        "print(friends[:6])"
      ],
      "metadata": {
        "colab": {
          "base_uri": "https://localhost:8080/"
        },
        "id": "51QHkxqmCBZt",
        "outputId": "96f6fdc8-f4e3-4bf9-a8c2-a0e0abaf8d8e"
      },
      "execution_count": null,
      "outputs": [
        {
          "output_type": "stream",
          "name": "stdout",
          "text": [
            "['Rafah', 'Nafrees', 'Jezeel']\n",
            "['Hammath', 'Rafah', 'Nafrees']\n",
            "['Hammath', 'Rafah', 'Nafrees', 'Jezeel', 'Muzny']\n"
          ]
        }
      ]
    },
    {
      "cell_type": "code",
      "source": [
        "#tuple\n",
        "Coordinates = (10,20)\n",
        "Person = (\"Mohammed\", 26, \"mnmohammed1998@gmail.com\", 768883935)\n",
        "\n",
        "print(Person)\n",
        "print(\"Gmail:\",Person[2])"
      ],
      "metadata": {
        "colab": {
          "base_uri": "https://localhost:8080/"
        },
        "id": "VxwccYURC5VX",
        "outputId": "24d19089-73b7-4079-eaa6-053f451a6c56"
      },
      "execution_count": null,
      "outputs": [
        {
          "output_type": "stream",
          "name": "stdout",
          "text": [
            "('Mohammed', 26, 'mnmohammed1998@gmail.com', 768883935)\n",
            "Gmail: mnmohammed1998@gmail.com\n"
          ]
        }
      ]
    },
    {
      "cell_type": "code",
      "source": [
        "#nested_tuple\n",
        "details = (\"apple\", (10,20,30),\"banana\")\n",
        "print(details[1][2])"
      ],
      "metadata": {
        "colab": {
          "base_uri": "https://localhost:8080/"
        },
        "id": "lxDvz2QlDNfD",
        "outputId": "e825b962-27fb-4296-8cb4-78556ba5e7a8"
      },
      "execution_count": null,
      "outputs": [
        {
          "output_type": "stream",
          "name": "stdout",
          "text": [
            "30\n"
          ]
        }
      ]
    },
    {
      "cell_type": "code",
      "source": [
        "#set\n",
        "numbers={7,2,5,3,3,5,3,5,7,8}\n",
        "print(numbers)\n",
        "fruits={\"apple\",\"banana\",\"orange\"}\n",
        "print(fruits)"
      ],
      "metadata": {
        "colab": {
          "base_uri": "https://localhost:8080/"
        },
        "id": "824fr0W8FZuw",
        "outputId": "ff2689e2-35b7-43de-e5ee-6018fd5f6e01"
      },
      "execution_count": null,
      "outputs": [
        {
          "output_type": "stream",
          "name": "stdout",
          "text": [
            "{2, 3, 5, 7, 8}\n",
            "{'apple', 'banana', 'orange'}\n"
          ]
        }
      ]
    },
    {
      "cell_type": "code",
      "source": [
        "if \"banana\" in fruits:\n",
        "  print(\"banana is here\")"
      ],
      "metadata": {
        "colab": {
          "base_uri": "https://localhost:8080/"
        },
        "id": "i8HQJIijHfpY",
        "outputId": "e592cc65-1aa2-4e8e-ca9a-91d15baf74d6"
      },
      "execution_count": null,
      "outputs": [
        {
          "output_type": "stream",
          "name": "stdout",
          "text": [
            "banana is here\n"
          ]
        }
      ]
    },
    {
      "cell_type": "code",
      "source": [
        "'''fruits=list(fruits)\n",
        "print(fruits[1])'''"
      ],
      "metadata": {
        "colab": {
          "base_uri": "https://localhost:8080/",
          "height": 36
        },
        "id": "MA2rxqIbIgUO",
        "outputId": "1637fb51-7f47-481c-a9df-179beabd5ff5"
      },
      "execution_count": null,
      "outputs": [
        {
          "output_type": "execute_result",
          "data": {
            "text/plain": [
              "'fruits=list(fruits)\\nprint(fruits[1])'"
            ],
            "application/vnd.google.colaboratory.intrinsic+json": {
              "type": "string"
            }
          },
          "metadata": {},
          "execution_count": 157
        }
      ]
    },
    {
      "cell_type": "code",
      "source": [
        "#dictonary\n",
        "student={'name':'mohammed', 'age':26,'location':'dehiwala'}\n",
        "print(student)\n",
        "print(student.get(\"name\"))\n",
        "print(student.values())\n",
        "print(student.keys())"
      ],
      "metadata": {
        "colab": {
          "base_uri": "https://localhost:8080/"
        },
        "id": "TJluwQgvHx5E",
        "outputId": "30c47362-1f86-4fdd-94aa-a0dac4d74ce8"
      },
      "execution_count": null,
      "outputs": [
        {
          "output_type": "stream",
          "name": "stdout",
          "text": [
            "{'name': 'mohammed', 'age': 26, 'location': 'dehiwala'}\n",
            "mohammed\n",
            "dict_values(['mohammed', 26, 'dehiwala'])\n",
            "dict_keys(['name', 'age', 'location'])\n"
          ]
        }
      ]
    },
    {
      "cell_type": "code",
      "source": [
        "student[\"gender\"] = \"male\"\n",
        "print(student)"
      ],
      "metadata": {
        "colab": {
          "base_uri": "https://localhost:8080/"
        },
        "id": "XImGy8wmICeS",
        "outputId": "49a2bea7-caa0-42a4-a320-c8811332fca4"
      },
      "execution_count": null,
      "outputs": [
        {
          "output_type": "stream",
          "name": "stdout",
          "text": [
            "{'name': 'mohammed', 'age': 26, 'location': 'dehiwala', 'gender': 'male'}\n"
          ]
        }
      ]
    },
    {
      "cell_type": "code",
      "source": [
        "del student[\"gender\"]\n",
        "print(student)"
      ],
      "metadata": {
        "colab": {
          "base_uri": "https://localhost:8080/"
        },
        "id": "KvxVh5pSJkek",
        "outputId": "03562fbd-a2b2-42e2-bd5e-1879c7d94fbc"
      },
      "execution_count": null,
      "outputs": [
        {
          "output_type": "stream",
          "name": "stdout",
          "text": [
            "{'name': 'mohammed', 'age': 26, 'location': 'dehiwala'}\n"
          ]
        }
      ]
    },
    {
      "cell_type": "code",
      "source": [
        "2**3\n",
        "3-2\n",
        "4-5"
      ],
      "metadata": {
        "colab": {
          "base_uri": "https://localhost:8080/"
        },
        "id": "vnAY8EvwKA01",
        "outputId": "b43005fd-445d-475a-8699-7d390a6aef29"
      },
      "execution_count": null,
      "outputs": [
        {
          "output_type": "execute_result",
          "data": {
            "text/plain": [
              "-1"
            ]
          },
          "metadata": {},
          "execution_count": 161
        }
      ]
    },
    {
      "cell_type": "code",
      "source": [
        "import datetime\n",
        "current_time = datetime.datetime.now()\n",
        "print(current_time)\n",
        "print(current_time.year)\n",
        "bd= datetime.datetime(2023,3,7)\n",
        "print(bd)"
      ],
      "metadata": {
        "colab": {
          "base_uri": "https://localhost:8080/"
        },
        "id": "szw_24DIKeVS",
        "outputId": "971e2f03-16a6-4610-87b5-15b8c42f0d79"
      },
      "execution_count": null,
      "outputs": [
        {
          "output_type": "stream",
          "name": "stdout",
          "text": [
            "2024-08-31 11:54:54.624861\n",
            "2024\n",
            "2023-03-07 00:00:00\n"
          ]
        }
      ]
    },
    {
      "cell_type": "code",
      "source": [
        "birth_year = input(\"Enter your Year of Birth \")\n",
        "birth_month = input(\"Enter your Month of Birth \")\n",
        "birth_day = input(\"Enter your Date if Birth \")\n",
        "birthday = datetime.datetime(int(birth_year),int(birth_month), int(birth_day))\n",
        "\n",
        "now_age = (datetime.datetime.now() - birthday).days /365\n",
        "print(now_age)\n",
        "\n",
        "if age <= 18 :\n",
        "  print(\"NOT Eligible\")\n",
        "else:\n",
        "  print(\"Eligible\")"
      ],
      "metadata": {
        "colab": {
          "base_uri": "https://localhost:8080/"
        },
        "id": "RUt7QNR4Li9N",
        "outputId": "04452c58-3d44-44cc-91b2-bb58749c4a01"
      },
      "execution_count": null,
      "outputs": [
        {
          "output_type": "stream",
          "name": "stdout",
          "text": [
            "Enter your Year of Birth 1998\n",
            "Enter your Month of Birth 3\n",
            "Enter your Date if Birth 7\n",
            "26.504109589041096\n",
            "Eligible\n"
          ]
        }
      ]
    },
    {
      "cell_type": "code",
      "source": [
        "checkdate = datetime.datetime(1998,3,7)\n",
        "print(datetime.datetime.now())\n",
        "age_days = datetime.datetime.now()-checkdate\n",
        "print(age_days.days/365.25)"
      ],
      "metadata": {
        "colab": {
          "base_uri": "https://localhost:8080/"
        },
        "id": "Vnc1GAlTOzBZ",
        "outputId": "fc4bd0c6-7080-4380-8705-fe4c6b9bda79"
      },
      "execution_count": null,
      "outputs": [
        {
          "output_type": "stream",
          "name": "stdout",
          "text": [
            "2024-08-31 11:55:05.017050\n",
            "26.48596851471595\n"
          ]
        }
      ]
    },
    {
      "cell_type": "code",
      "source": [
        "num=1\n",
        "while num <= 5:\n",
        "  print(num)\n",
        "  num += 1"
      ],
      "metadata": {
        "colab": {
          "base_uri": "https://localhost:8080/"
        },
        "id": "gUpzHjGLPJPu",
        "outputId": "b1a25f6d-fed4-40a6-ab2b-41ad7a9ecc47"
      },
      "execution_count": null,
      "outputs": [
        {
          "output_type": "stream",
          "name": "stdout",
          "text": [
            "1\n",
            "2\n",
            "3\n",
            "4\n",
            "5\n"
          ]
        }
      ]
    },
    {
      "cell_type": "code",
      "source": [
        "#Calculate the sum of numbers from 1 to 10\n",
        "\n",
        "num1 = 1\n",
        "temp = 0\n",
        "\n",
        "while num1 <=10 :\n",
        "  temp += num1\n",
        "  print(temp)\n",
        "  num1 += 1\n",
        "\n",
        "print (\"The Sum is \", temp)"
      ],
      "metadata": {
        "colab": {
          "base_uri": "https://localhost:8080/"
        },
        "id": "cnqIZSMoP-rD",
        "outputId": "28002654-033e-4b3d-dddd-24d2388a0057"
      },
      "execution_count": null,
      "outputs": [
        {
          "output_type": "stream",
          "name": "stdout",
          "text": [
            "1\n",
            "3\n",
            "6\n",
            "10\n",
            "15\n",
            "21\n",
            "28\n",
            "36\n",
            "45\n",
            "55\n",
            "The Sum is  55\n"
          ]
        }
      ]
    },
    {
      "cell_type": "code",
      "source": [],
      "metadata": {
        "id": "Owuft1XsQuXw"
      },
      "execution_count": null,
      "outputs": []
    }
  ]
}